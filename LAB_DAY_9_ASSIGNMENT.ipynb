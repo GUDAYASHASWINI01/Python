{
  "nbformat": 4,
  "nbformat_minor": 0,
  "metadata": {
    "colab": {
      "provenance": [],
      "authorship_tag": "ABX9TyMz4PoYmEBrK9WaRDKdl8VS",
      "include_colab_link": true
    },
    "kernelspec": {
      "name": "python3",
      "display_name": "Python 3"
    },
    "language_info": {
      "name": "python"
    }
  },
  "cells": [
    {
      "cell_type": "markdown",
      "metadata": {
        "id": "view-in-github",
        "colab_type": "text"
      },
      "source": [
        "<a href=\"https://colab.research.google.com/github/GUDAYASHASWINI01/Python/blob/main/LAB_DAY_9_ASSIGNMENT.ipynb\" target=\"_parent\"><img src=\"https://colab.research.google.com/assets/colab-badge.svg\" alt=\"Open In Colab\"/></a>"
      ]
    },
    {
      "cell_type": "code",
      "execution_count": 1,
      "metadata": {
        "colab": {
          "base_uri": "https://localhost:8080/"
        },
        "id": "MsFqmu1kp54e",
        "outputId": "00ccd197-dc26-4f5e-cbc7-f4534cb6837f"
      },
      "outputs": [
        {
          "output_type": "stream",
          "name": "stdout",
          "text": [
            "Original Text: Hello World! Welcome to NLP 101.\n",
            "Cleaned Text: hello world welcome to nlp 101\n"
          ]
        }
      ],
      "source": [
        "import re\n",
        "\n",
        "def clean_text(text):\n",
        "  \"\"\"Cleans the given text by removing special characters and converting to lowercase.\n",
        "\n",
        "  Args:\n",
        "    text: The input text to be cleaned.\n",
        "\n",
        "  Returns:\n",
        "    The cleaned text.\n",
        "  \"\"\"\n",
        "\n",
        "  # Remove special characters using regular expression.\n",
        "  text = re.sub(r\"[^a-zA-Z0-9 ]\", \"\", text)\n",
        "\n",
        "  # Convert the text to lowercase.\n",
        "  text = text.lower()\n",
        "\n",
        "  return text\n",
        "\n",
        "# Test the function with the provided input.\n",
        "input_text = 'Hello World! Welcome to NLP 101.'\n",
        "cleaned_text = clean_text(input_text)\n",
        "print(f\"Original Text: {input_text}\")\n",
        "print(f\"Cleaned Text: {cleaned_text}\")"
      ]
    }
  ]
}