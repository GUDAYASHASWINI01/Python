{
 "cells": [
  {
   "cell_type": "code",
   "execution_count": null,
   "id": "dd6970ab-4b6d-4f29-911e-39ca69f7df38",
   "metadata": {},
   "outputs": [],
   "source": [
    "import pyttsx3\n",
    "import speech_recognition as sr\n",
    "\n",
    "engine = pyttsx3.init()\n",
    "\n",
    "def speak(text):\n",
    "    \"\"\"Make the assistant speak.\"\"\"\n",
    "    engine.say(text)\n",
    "    engine.runAndWait()\n",
    "\n",
    "def listen():\n",
    "    \"\"\"Listen to the user's voice command.\"\"\"\n",
    "    recognizer = sr.Recognizer()\n",
    "    with sr.Microphone() as source:\n",
    "        speak(\"I am listening, please speak.\")\n",
    "        try:\n",
    "            audio = recognizer.listen(source)\n",
    "            command = recognizer.recognize_google(audio)\n",
    "            return command.lower()\n",
    "        except sr.UnknownValueError:\n",
    "            speak(\"Sorry, I did not catch that.\")\n",
    "            return \"\"\n",
    "def main():\n",
    "    \"\"\"Main function to run the voice bot.\"\"\"\n",
    "    speak(\"Hello! I am basic voice bot from Mallareddy University. You can say hello, ask my name, or say goodbye\")\n",
    "\n",
    "    while True:\n",
    "        command = listen()\n",
    "\n",
    "        if \"hello\" in command:\n",
    "            speak(\"Hi there! Welcome to Mallareddy College.\")\n",
    "        elif \"What's your name\" in command or \"what is your name\" in command:\n",
    "            speak(\"My name is Simple Bot from Mallareddy College.\")\n",
    "        elif \"goodbye\" in command:\n",
    "            speak(\"Goodbye! Have a great day at Mallareddy College.\")\n",
    "            break\n",
    "        else:\n",
    "            speak(\"I didn't understand that. Please try again.\")\n",
    "\n",
    "if __name__ == \"__main__\":\n",
    "    main()"
   ]
  },
  {
   "cell_type": "code",
   "execution_count": null,
   "id": "c6306c47-ef69-43a3-a90c-2efadabcb35d",
   "metadata": {},
   "outputs": [],
   "source": []
  }
 ],
 "metadata": {
  "kernelspec": {
   "display_name": "Python 3 (ipykernel)",
   "language": "python",
   "name": "python3"
  },
  "language_info": {
   "codemirror_mode": {
    "name": "ipython",
    "version": 3
   },
   "file_extension": ".py",
   "mimetype": "text/x-python",
   "name": "python",
   "nbconvert_exporter": "python",
   "pygments_lexer": "ipython3",
   "version": "3.12.3"
  }
 },
 "nbformat": 4,
 "nbformat_minor": 5
}
