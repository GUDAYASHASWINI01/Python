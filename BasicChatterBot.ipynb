{
  "nbformat": 4,
  "nbformat_minor": 0,
  "metadata": {
    "colab": {
      "provenance": [],
      "authorship_tag": "ABX9TyPXps1BCVPrzVRJczDr8W3l",
      "include_colab_link": true
    },
    "kernelspec": {
      "name": "python3",
      "display_name": "Python 3"
    },
    "language_info": {
      "name": "python"
    }
  },
  "cells": [
    {
      "cell_type": "markdown",
      "metadata": {
        "id": "view-in-github",
        "colab_type": "text"
      },
      "source": [
        "<a href=\"https://colab.research.google.com/github/GUDAYASHASWINI01/Python/blob/main/BasicChatterBot.ipynb\" target=\"_parent\"><img src=\"https://colab.research.google.com/assets/colab-badge.svg\" alt=\"Open In Colab\"/></a>"
      ]
    },
    {
      "cell_type": "code",
      "execution_count": null,
      "metadata": {
        "colab": {
          "base_uri": "https://localhost:8080/"
        },
        "id": "Y-iqxrxSbpgJ",
        "outputId": "5e45f35e-30f5-428d-8cd2-4c3c7ef06ee3"
      },
      "outputs": [
        {
          "name": "stdout",
          "output_type": "stream",
          "text": [
            "This is a sample test.\n"
          ]
        }
      ],
      "source": [
        "x = input()"
      ]
    },
    {
      "cell_type": "code",
      "source": [
        "end_words = ['esc','stop','exit','quit']"
      ],
      "metadata": {
        "id": "AbQb16yQcRwh"
      },
      "execution_count": null,
      "outputs": []
    },
    {
      "cell_type": "code",
      "source": [
        "def lowercase(sentence):\n",
        "  return sentence.lower()"
      ],
      "metadata": {
        "id": "zuyyEEU_cx9d"
      },
      "execution_count": null,
      "outputs": []
    },
    {
      "cell_type": "code",
      "source": [
        "lowercase('i am a good girl. I AM A BAD GIRL')"
      ],
      "metadata": {
        "colab": {
          "base_uri": "https://localhost:8080/",
          "height": 35
        },
        "id": "J0asu3yvc5K8",
        "outputId": "7031337a-b6d2-4199-9c46-69b346cfff96"
      },
      "execution_count": null,
      "outputs": [
        {
          "output_type": "execute_result",
          "data": {
            "text/plain": [
              "'i am a good girl. i am a bad girl'"
            ],
            "application/vnd.google.colaboratory.intrinsic+json": {
              "type": "string"
            }
          },
          "metadata": {},
          "execution_count": 6
        }
      ]
    },
    {
      "cell_type": "code",
      "source": [
        "def uppercase(sentence):\n",
        "  return sentence.upper()"
      ],
      "metadata": {
        "id": "k-8K-jL-dGJ-"
      },
      "execution_count": null,
      "outputs": []
    },
    {
      "cell_type": "code",
      "source": [
        "uppercase('i am a good girl. I AM A BAD GIRL')"
      ],
      "metadata": {
        "colab": {
          "base_uri": "https://localhost:8080/",
          "height": 35
        },
        "id": "RqvP7CPtddhh",
        "outputId": "5dc19353-8951-4221-bd52-6960b9c8f590"
      },
      "execution_count": null,
      "outputs": [
        {
          "output_type": "execute_result",
          "data": {
            "text/plain": [
              "'I AM A GOOD GIRL. I AM A BAD GIRL'"
            ],
            "application/vnd.google.colaboratory.intrinsic+json": {
              "type": "string"
            }
          },
          "metadata": {},
          "execution_count": 8
        }
      ]
    },
    {
      "cell_type": "code",
      "source": [
        "def swapcase(sentence):\n",
        "  return sentence.swapcase()"
      ],
      "metadata": {
        "id": "bw2pOe5Bhro9"
      },
      "execution_count": null,
      "outputs": []
    },
    {
      "cell_type": "code",
      "source": [
        "swapcase('i am a good girl. I AM A BAD GIRL')"
      ],
      "metadata": {
        "colab": {
          "base_uri": "https://localhost:8080/",
          "height": 35
        },
        "id": "vPvl4T4ph36I",
        "outputId": "95c9d43f-0b00-4743-cb84-bc61a70968ad"
      },
      "execution_count": null,
      "outputs": [
        {
          "output_type": "execute_result",
          "data": {
            "text/plain": [
              "'I AM A GOOD GIRL. i am a bad girl'"
            ],
            "application/vnd.google.colaboratory.intrinsic+json": {
              "type": "string"
            }
          },
          "metadata": {},
          "execution_count": 19
        }
      ]
    },
    {
      "cell_type": "code",
      "source": [
        "x = input(\"Enter Text: \")\n",
        "while x not in end_words:\n",
        "  choice = input(\"choice 1 or 2 : \")\n",
        "  if choice == '1':\n",
        "    print(lowercase(x))\n",
        "  elif choice == '2':\n",
        "    print(uppercase(x))\n",
        "  elif choice == '3':\n",
        "    print(swapcase(x))\n",
        "  else:\n",
        "    print('invalid choice')\n",
        "  x = input(\"Enter Text: \")"
      ],
      "metadata": {
        "colab": {
          "base_uri": "https://localhost:8080/"
        },
        "id": "8tNuG8-8diIS",
        "outputId": "44014860-1443-4788-ba41-5bbacabaf626"
      },
      "execution_count": null,
      "outputs": [
        {
          "name": "stdout",
          "output_type": "stream",
          "text": [
            "Enter Text: akeruygaeilruh\n",
            "choice 1 or 2 : 2\n",
            "AKERUYGAEILRUH\n",
            "Enter Text: AKJEGFALIERUGF\n",
            "choice 1 or 2 : 1\n",
            "akjegfalierugf\n",
            "Enter Text: KAUEGFIRFilsreuugh\n",
            "choice 1 or 2 : 3\n",
            "kauegfirfILSREUUGH\n",
            "Enter Text: exit\n"
          ]
        }
      ]
    },
    {
      "cell_type": "code",
      "source": [],
      "metadata": {
        "id": "P_Boaa-BeGw-"
      },
      "execution_count": null,
      "outputs": []
    }
  ]
}