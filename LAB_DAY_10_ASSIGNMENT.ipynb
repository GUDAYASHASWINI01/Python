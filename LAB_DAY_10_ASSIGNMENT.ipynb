{
  "nbformat": 4,
  "nbformat_minor": 0,
  "metadata": {
    "colab": {
      "provenance": [],
      "authorship_tag": "ABX9TyN0qt3kzHwXfdI+32iEZ4sO",
      "include_colab_link": true
    },
    "kernelspec": {
      "name": "python3",
      "display_name": "Python 3"
    },
    "language_info": {
      "name": "python"
    }
  },
  "cells": [
    {
      "cell_type": "markdown",
      "metadata": {
        "id": "view-in-github",
        "colab_type": "text"
      },
      "source": [
        "<a href=\"https://colab.research.google.com/github/GUDAYASHASWINI01/Python/blob/main/LAB_DAY_10_ASSIGNMENT.ipynb\" target=\"_parent\"><img src=\"https://colab.research.google.com/assets/colab-badge.svg\" alt=\"Open In Colab\"/></a>"
      ]
    },
    {
      "cell_type": "code",
      "execution_count": 1,
      "metadata": {
        "colab": {
          "base_uri": "https://localhost:8080/"
        },
        "id": "nZC73ZDpqpuZ",
        "outputId": "e9cd34a3-2538-4925-cb86-141b9cc86fb4"
      },
      "outputs": [
        {
          "output_type": "stream",
          "name": "stdout",
          "text": [
            "Extracted Emails: ['support@example.com', 'sales@example.org']\n"
          ]
        }
      ],
      "source": [
        "import re\n",
        "\n",
        "def extract_emails(text):\n",
        "  \"\"\"Extracts all email addresses from a given string using regular expressions.\n",
        "\n",
        "  Args:\n",
        "    text: The input string to extract emails from.\n",
        "\n",
        "  Returns:\n",
        "    A list of email addresses found in the string.\n",
        "  \"\"\"\n",
        "\n",
        "  # Define the regular expression pattern for email addresses.\n",
        "  email_pattern = r\"[a-z0-9\\.\\-+_]+@[a-z0-9\\.\\-+_]+\\.[a-z]+\"\n",
        "\n",
        "  # Find all matches of the pattern in the text.\n",
        "  emails = re.findall(email_pattern, text)\n",
        "\n",
        "  return emails\n",
        "\n",
        "# Test the function with the provided input.\n",
        "input_text = 'Contact us at support@example.com and sales@example.org.'\n",
        "extracted_emails = extract_emails(input_text)\n",
        "print(f\"Extracted Emails: {extracted_emails}\")"
      ]
    },
    {
      "cell_type": "code",
      "source": [],
      "metadata": {
        "id": "B7Pb_u0Fqq9M"
      },
      "execution_count": null,
      "outputs": []
    }
  ]
}