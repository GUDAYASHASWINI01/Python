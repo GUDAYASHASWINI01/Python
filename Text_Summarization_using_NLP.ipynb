{
  "cells": [
    {
      "cell_type": "markdown",
      "metadata": {
        "id": "view-in-github",
        "colab_type": "text"
      },
      "source": [
        "<a href=\"https://colab.research.google.com/github/GUDAYASHASWINI01/Python/blob/main/Text_Summarization_using_NLP.ipynb\" target=\"_parent\"><img src=\"https://colab.research.google.com/assets/colab-badge.svg\" alt=\"Open In Colab\"/></a>"
      ]
    },
    {
      "cell_type": "code",
      "source": [
        "# Import necessary libraries\n",
        "import numpy as np\n",
        "import pandas as pd\n",
        "import nltk\n",
        "from sklearn.feature_extraction.text import TfidfVectorizer\n",
        "from nltk.tokenize import sent_tokenize\n",
        "\n",
        "# Download 'punkt_tab' data for sentence tokenization\n",
        "nltk.download('punkt_tab')\n",
        "\n",
        "# Input text for summarization\n",
        "text = \"\"\"\n",
        "Cloud computing is a technology that delivers computing services such as storage,\n",
        "servers, databases, software, and networking over the internet. It allows businesses\n",
        "and individuals to access resources on demand without the need for physical infrastructure,\n",
        "enabling cost savings, scalability, and flexibility. Cloud services are categorized\n",
        "into Infrastructure as a Service (IaaS), Platform as a Service (PaaS), and Software\n",
        "as a Service (SaaS). Deployment models include public, private, hybrid, and multi-cloud\n",
        "environments. With enhanced security, disaster recovery options, and high availability,\n",
        "cloud computing has transformed modern IT by enabling innovation, collaboration, and\n",
        "remote access to critical applications and data.\n",
        "\"\"\"\n",
        "\n",
        "# 1. Split the text into sentences\n",
        "sentences = sent_tokenize(text)\n",
        "\n",
        "# 2. Calculate TF-IDF scores\n",
        "vectorizer = TfidfVectorizer()\n",
        "tfidf_matrix = vectorizer.fit_transform(sentences)\n",
        "\n",
        "# 3. Compute sentence scores\n",
        "sentence_scores = np.array(tfidf_matrix.sum(axis=1)).flatten()\n",
        "\n",
        "# 4. Rank sentences by scores\n",
        "ranked_sentences = [sentences[i] for i in sentence_scores.argsort()[::-1]]\n",
        "\n",
        "# 5. Generate the summary (top N sentences)\n",
        "num_sentences = 2  # Set number of sentences for the summary\n",
        "summary = \" \".join(ranked_sentences[:num_sentences])\n",
        "\n",
        "# Print the output\n",
        "print(\"Original Text:\\n\", text)\n",
        "print(\"\\nSummary:\\n\", summary)\n",
        "\n",
        "# Optional: Save the summary to a text file\n",
        "with open(\"summary_tfidf.txt\", \"w\") as file:\n",
        "    file.write(summary)"
      ],
      "metadata": {
        "colab": {
          "base_uri": "https://localhost:8080/"
        },
        "id": "heeTrbEin1FC",
        "outputId": "a810598f-2710-4887-d83f-3d37abd654b1"
      },
      "execution_count": null,
      "outputs": [
        {
          "output_type": "stream",
          "name": "stderr",
          "text": [
            "[nltk_data] Downloading package punkt_tab to /root/nltk_data...\n",
            "[nltk_data]   Unzipping tokenizers/punkt_tab.zip.\n"
          ]
        },
        {
          "output_type": "stream",
          "name": "stdout",
          "text": [
            "Original Text:\n",
            " \n",
            "Cloud computing is a technology that delivers computing services such as storage,\n",
            "servers, databases, software, and networking over the internet. It allows businesses\n",
            "and individuals to access resources on demand without the need for physical infrastructure,\n",
            "enabling cost savings, scalability, and flexibility. Cloud services are categorized\n",
            "into Infrastructure as a Service (IaaS), Platform as a Service (PaaS), and Software\n",
            "as a Service (SaaS). Deployment models include public, private, hybrid, and multi-cloud\n",
            "environments. With enhanced security, disaster recovery options, and high availability,\n",
            "cloud computing has transformed modern IT by enabling innovation, collaboration, and\n",
            "remote access to critical applications and data.\n",
            "\n",
            "\n",
            "Summary:\n",
            " With enhanced security, disaster recovery options, and high availability,\n",
            "cloud computing has transformed modern IT by enabling innovation, collaboration, and\n",
            "remote access to critical applications and data. It allows businesses\n",
            "and individuals to access resources on demand without the need for physical infrastructure,\n",
            "enabling cost savings, scalability, and flexibility.\n"
          ]
        }
      ]
    }
  ],
  "metadata": {
    "colab": {
      "provenance": [],
      "include_colab_link": true
    },
    "kernelspec": {
      "display_name": "Python 3",
      "name": "python3"
    }
  },
  "nbformat": 4,
  "nbformat_minor": 0
}