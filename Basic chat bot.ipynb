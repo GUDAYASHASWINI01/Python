{
 "cells": [
  {
   "cell_type": "code",
   "execution_count": 1,
   "id": "035009ac-117b-42fa-b4bb-ee6aa4509370",
   "metadata": {},
   "outputs": [
    {
     "name": "stdout",
     "output_type": "stream",
     "text": [
      "Requirement already satisfied: SpeechRecognition in c:\\users\\yasha\\anaconda3\\lib\\site-packages (3.13.0)\n",
      "Requirement already satisfied: pyttsx3 in c:\\users\\yasha\\anaconda3\\lib\\site-packages (2.98)\n",
      "Requirement already satisfied: pyaudio in c:\\users\\yasha\\anaconda3\\lib\\site-packages (0.2.14)\n",
      "Requirement already satisfied: typing-extensions in c:\\users\\yasha\\appdata\\roaming\\python\\python312\\site-packages (from SpeechRecognition) (4.12.2)\n",
      "Requirement already satisfied: comtypes in c:\\users\\yasha\\anaconda3\\lib\\site-packages (from pyttsx3) (1.4.9)\n",
      "Requirement already satisfied: pypiwin32 in c:\\users\\yasha\\anaconda3\\lib\\site-packages (from pyttsx3) (223)\n",
      "Requirement already satisfied: pywin32 in c:\\users\\yasha\\appdata\\roaming\\python\\python312\\site-packages (from pyttsx3) (308)\n"
     ]
    }
   ],
   "source": [
    "!pip install SpeechRecognition pyttsx3 pyaudio"
   ]
  },
  {
   "cell_type": "code",
   "execution_count": 4,
   "id": "2920c3f0-e11f-49ce-9441-60c9126caad6",
   "metadata": {},
   "outputs": [
    {
     "name": "stdin",
     "output_type": "stream",
     "text": [
      "You:  goodbye\n"
     ]
    }
   ],
   "source": [
    "import pyttsx3\n",
    "#initializze text to speech engine \n",
    "engine = pyttsx3.init()\n",
    "\n",
    "def speak(text):\n",
    "    \"\"\"Make the assistant speak.\"\"\"\n",
    "    engine.say(text)\n",
    "    engine.runAndWait()\n",
    "    \n",
    "def main():\n",
    "    speak(\"Hello! I am your simple bot from Mallareddy College.\")\n",
    "    speak(\"You can say hello, ask my name, or say goodbye\")\n",
    "    \n",
    "    while True:\n",
    "        #get user input\n",
    "        command = input(\"You: \").lower()\n",
    "        \n",
    "        #respond to commands\n",
    "        if \"hello\" in command:\n",
    "            speak(\"Hi there! Welcome to Mallareddy College.\")\n",
    "        elif \"What's your name\" in command or \"what is your name\" in command:\n",
    "            speak(\"My name is Simple Bot from Mallareddy College.\")\n",
    "        elif \"goodbye\" in command:\n",
    "            speak(\"Goodbye! Have a great day at Mallareddy College.\")\n",
    "            break\n",
    "        else:\n",
    "            speak(\"I didn't understand that. Please try again.\")\n",
    "\n",
    "if __name__ == \"__main__\":\n",
    "    main()"
   ]
  }
 ],
 "metadata": {
  "kernelspec": {
   "display_name": "Python 3 (ipykernel)",
   "language": "python",
   "name": "python3"
  },
  "language_info": {
   "codemirror_mode": {
    "name": "ipython",
    "version": 3
   },
   "file_extension": ".py",
   "mimetype": "text/x-python",
   "name": "python",
   "nbconvert_exporter": "python",
   "pygments_lexer": "ipython3",
   "version": "3.12.3"
  }
 },
 "nbformat": 4,
 "nbformat_minor": 5
}
