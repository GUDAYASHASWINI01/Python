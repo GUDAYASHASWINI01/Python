{
  "nbformat": 4,
  "nbformat_minor": 0,
  "metadata": {
    "colab": {
      "provenance": [],
      "authorship_tag": "ABX9TyOReop4kJ5BWqHRfLeyKVFp",
      "include_colab_link": true
    },
    "kernelspec": {
      "name": "python3",
      "display_name": "Python 3"
    },
    "language_info": {
      "name": "python"
    }
  },
  "cells": [
    {
      "cell_type": "markdown",
      "metadata": {
        "id": "view-in-github",
        "colab_type": "text"
      },
      "source": [
        "<a href=\"https://colab.research.google.com/github/GUDAYASHASWINI01/Python/blob/main/Training_Python.ipynb\" target=\"_parent\"><img src=\"https://colab.research.google.com/assets/colab-badge.svg\" alt=\"Open In Colab\"/></a>"
      ]
    },
    {
      "cell_type": "code",
      "execution_count": null,
      "metadata": {
        "colab": {
          "base_uri": "https://localhost:8080/"
        },
        "id": "HAo2I7J9Xf27",
        "outputId": "d2541612-ba44-4520-aa06-5e8480e75e95"
      },
      "outputs": [
        {
          "output_type": "stream",
          "name": "stdout",
          "text": [
            "Original Integer: 42\n",
            "Result after multiplication: 84\n"
          ]
        }
      ],
      "source": [
        "#example for int\n",
        "my_int = 42\n",
        "print(\"Original Integer:\", my_int)\n",
        "result = my_int * 2\n",
        "print(\"Result after multiplication:\", result)"
      ]
    },
    {
      "cell_type": "code",
      "source": [
        "#example for list(\"append,insert,insert in the middle,remove\")\n",
        "my_list = [1, 'hello', 3.14, True]\n",
        "print(\"Original List:\", my_list)\n",
        "my_list.append('world')\n",
        "print(\"List after appending 'world':\", my_list)\n",
        "my_list.insert(0, 1)\n",
        "print(\"List after inserting at the beginning:\", my_list)\n",
        "middle_index = len(my_list) // 2\n",
        "my_list.insert(middle_index, 3.5)\n",
        "print(\"List after inserting in the middle:\", my_list)\n",
        "my_list.remove(3.14)\n",
        "print(\"List after removing 3.14:\", my_list)\n",
        "index_to_update = 2\n",
        "new_value = 10\n",
        "my_list[index_to_update]"
      ],
      "metadata": {
        "colab": {
          "base_uri": "https://localhost:8080/"
        },
        "id": "s2O8rowuYuCm",
        "outputId": "96a12ea5-c4ec-4ecf-b6d3-5081de0f1366"
      },
      "execution_count": null,
      "outputs": [
        {
          "output_type": "stream",
          "name": "stdout",
          "text": [
            "Original List: [1, 'hello', 3.14, True]\n",
            "List after appending 'world': [1, 'hello', 3.14, True, 'world']\n",
            "List after inserting at the beginning: [1, 1, 'hello', 3.14, True, 'world']\n",
            "List after inserting in the middle: [1, 1, 'hello', 3.5, 3.14, True, 'world']\n",
            "List after removing 3.14: [1, 1, 'hello', 3.5, True, 'world']\n"
          ]
        }
      ]
    },
    {
      "cell_type": "code",
      "source": [
        "#Slicing\n",
        "#1.Slicing with step(start:stop:step)\n",
        "my_list = [1, 2, 3, 4, 5, 6, 7, 8, 9, 10]\n",
        "print(\"\\nSlicing with step(start:stop:step):\")\n",
        "print(my_list[1:8:2])\n",
        "#2.Slicing with Negative index(counting from the end)\n",
        "print(\"\\nSlicing with negative index:\")\n",
        "print(my_list[-5:-2])\n",
        "#3.Reversing the list using Slicing\n",
        "print(\"\\nReversing the list using Slicing:\")\n",
        "print(my_list[::-1])"
      ],
      "metadata": {
        "colab": {
          "base_uri": "https://localhost:8080/"
        },
        "id": "orM2fo7miK8n",
        "outputId": "59ff11bd-4be3-4121-ee97-a0987653762a"
      },
      "execution_count": null,
      "outputs": [
        {
          "output_type": "stream",
          "name": "stdout",
          "text": [
            "\n",
            "Slicing with step(start:stop:step):\n",
            "[2, 4, 6, 8]\n",
            "\n",
            "Slicing with negative index:\n",
            "[6, 7, 8]\n",
            "\n",
            "Reversing the list using Slicing:\n",
            "[10, 9, 8, 7, 6, 5, 4, 3, 2, 1]\n"
          ]
        }
      ]
    },
    {
      "cell_type": "code",
      "source": [
        "# Create a list of lists representing fruits in different baskets\n",
        "baskets = [\n",
        "    ['apple', 'banana', 'orange'],  # Basket 1\n",
        "    ['grape', 'strawberry', 'kiwi'], # Basket 2\n",
        "    ['mango', 'pineapple']          # Basket 3\n",
        "]\n",
        "\n",
        "# Print the fruits in the second basket\n",
        "print(\"Fruits in basket 2:\", baskets[1])\n",
        "\n",
        "# Print the first fruit in the third basket\n",
        "print(\"First fruit in basket 3:\", baskets[2][0])"
      ],
      "metadata": {
        "colab": {
          "base_uri": "https://localhost:8080/"
        },
        "id": "Qm_Y5tQ0kyOB",
        "outputId": "4339eee9-8c81-47bd-c28d-6b151b6abda6"
      },
      "execution_count": null,
      "outputs": [
        {
          "output_type": "stream",
          "name": "stdout",
          "text": [
            "Fruits in basket 2: ['grape', 'strawberry', 'kiwi']\n",
            "First fruit in basket 3: mango\n"
          ]
        }
      ]
    },
    {
      "cell_type": "code",
      "source": [
        "#example for tuple\n",
        "my_tuple = (1, 'apple', 3.14, False)\n",
        "print(\"Original Tuple:\", my_tuple)\n",
        "print(\"First element:\", my_tuple[0])\n",
        "print(\"Last element:\", my_tuple[-1])"
      ],
      "metadata": {
        "colab": {
          "base_uri": "https://localhost:8080/"
        },
        "id": "ovaraCBCZ3yL",
        "outputId": "f9156d04-43a0-4b68-9fbe-1600bd242d7c"
      },
      "execution_count": null,
      "outputs": [
        {
          "output_type": "stream",
          "name": "stdout",
          "text": [
            "Original Tuple: (1, 'apple', 3.14, False)\n",
            "First element: 1\n",
            "Last element: False\n"
          ]
        }
      ]
    },
    {
      "cell_type": "code",
      "source": [
        "#example for set\n",
        "my_set = {1, 2, 3, 4, 5}\n",
        "print(\"Original set:\", my_set)\n",
        "my_set.add(6)\n",
        "print(\"Set after adding 6:\", my_set)"
      ],
      "metadata": {
        "colab": {
          "base_uri": "https://localhost:8080/"
        },
        "id": "8d6InNbTbXJ8",
        "outputId": "72892dd0-4b71-4c05-a108-74c5ee36a558"
      },
      "execution_count": null,
      "outputs": [
        {
          "output_type": "stream",
          "name": "stdout",
          "text": [
            "Original set: {1, 2, 3, 4, 5}\n",
            "Set after adding 6: {1, 2, 3, 4, 5, 6}\n"
          ]
        }
      ]
    },
    {
      "cell_type": "code",
      "source": [
        "#example for dict\n",
        "my_dict = {'name': 'John', 'age': 25, 'city': 'New York'}\n",
        "print(\"Original dictionary:\", my_dict)\n",
        "my_dict['age'] = 26\n",
        "print(\"Dictionary after age=26:\", my_dict)"
      ],
      "metadata": {
        "colab": {
          "base_uri": "https://localhost:8080/"
        },
        "id": "zO09aKX9c7FJ",
        "outputId": "b780b2dd-90b4-4467-834a-f51f1de96e48"
      },
      "execution_count": null,
      "outputs": [
        {
          "output_type": "stream",
          "name": "stdout",
          "text": [
            "Original dictionary: {'name': 'John', 'age': 25, 'city': 'New York'}\n",
            "Dictionary after age=26: {'name': 'John', 'age': 26, 'city': 'New York'}\n"
          ]
        }
      ]
    },
    {
      "cell_type": "code",
      "source": [
        "print(dir(str))"
      ],
      "metadata": {
        "colab": {
          "base_uri": "https://localhost:8080/"
        },
        "id": "yPZA0kLKMiPA",
        "outputId": "4f7ed83f-7ce4-4643-fc6a-4b78c34d23ac"
      },
      "execution_count": null,
      "outputs": [
        {
          "output_type": "stream",
          "name": "stdout",
          "text": [
            "['__add__', '__class__', '__contains__', '__delattr__', '__dir__', '__doc__', '__eq__', '__format__', '__ge__', '__getattribute__', '__getitem__', '__getnewargs__', '__gt__', '__hash__', '__init__', '__init_subclass__', '__iter__', '__le__', '__len__', '__lt__', '__mod__', '__mul__', '__ne__', '__new__', '__reduce__', '__reduce_ex__', '__repr__', '__rmod__', '__rmul__', '__setattr__', '__sizeof__', '__str__', '__subclasshook__', 'capitalize', 'casefold', 'center', 'count', 'encode', 'endswith', 'expandtabs', 'find', 'format', 'format_map', 'index', 'isalnum', 'isalpha', 'isascii', 'isdecimal', 'isdigit', 'isidentifier', 'islower', 'isnumeric', 'isprintable', 'isspace', 'istitle', 'isupper', 'join', 'ljust', 'lower', 'lstrip', 'maketrans', 'partition', 'removeprefix', 'removesuffix', 'replace', 'rfind', 'rindex', 'rjust', 'rpartition', 'rsplit', 'rstrip', 'split', 'splitlines', 'startswith', 'strip', 'swapcase', 'title', 'translate', 'upper', 'zfill']\n"
          ]
        }
      ]
    },
    {
      "cell_type": "code",
      "source": [
        "#Method Example\n",
        "class Greeter:\n",
        "    def __init__(self, name):\n",
        "        self.name = name\n",
        "\n",
        "    def greet(self):  # Instance method\n",
        "        return f\"Hello, {self.name}!\"\n",
        "\n",
        "    @classmethod\n",
        "    def general_greet(cls):  # Class method\n",
        "        return \"Hello, everyone!\"\n",
        "\n",
        "    @staticmethod\n",
        "    def static_greet():  # Static method\n",
        "        return \"Hello!\"\n",
        "\n",
        "obj = Greeter(\"Alice\")\n",
        "print(obj.greet())\n",
        "print(Greeter.general_greet())\n",
        "print(Greeter.static_greet())\n",
        "#Replacing word\n",
        "a = 'hello'\n",
        "b = a.replace('hello', 'hi')\n",
        "b = a.upper()\n",
        "print(b)"
      ],
      "metadata": {
        "colab": {
          "base_uri": "https://localhost:8080/"
        },
        "id": "h07LemtiMvFN",
        "outputId": "f56a547f-9de0-4899-a85c-ef849f81d87f"
      },
      "execution_count": null,
      "outputs": [
        {
          "output_type": "stream",
          "name": "stdout",
          "text": [
            "Hello, Alice!\n",
            "Hello, everyone!\n",
            "Hello!\n",
            "HELLO\n"
          ]
        }
      ]
    },
    {
      "cell_type": "code",
      "source": [
        "#Function Example\n",
        "def greet(name):\n",
        "    return f\"Hello, {name}!\"\n",
        "\n",
        "print(greet(\"Alice\"))  # Output: Hello, Alice!"
      ],
      "metadata": {
        "colab": {
          "base_uri": "https://localhost:8080/"
        },
        "id": "h2JbI6WmNGPn",
        "outputId": "971eafcd-3e6d-4f8b-d091-eac62dcc4609"
      },
      "execution_count": null,
      "outputs": [
        {
          "output_type": "stream",
          "name": "stdout",
          "text": [
            "Hello, Alice!\n"
          ]
        }
      ]
    },
    {
      "cell_type": "code",
      "source": [
        "c = '1234sf'\n",
        "d = c.isdigit()\n",
        "print(d)"
      ],
      "metadata": {
        "colab": {
          "base_uri": "https://localhost:8080/"
        },
        "id": "kSUX8CpjOrJ8",
        "outputId": "04d38bc9-1d43-473e-b646-1699bdffbcff"
      },
      "execution_count": null,
      "outputs": [
        {
          "output_type": "stream",
          "name": "stdout",
          "text": [
            "False\n"
          ]
        }
      ]
    },
    {
      "cell_type": "code",
      "source": [
        "my_list = list(range(5,15,2))\n",
        "print(my_list)"
      ],
      "metadata": {
        "colab": {
          "base_uri": "https://localhost:8080/"
        },
        "id": "_2BBPzM_QSqL",
        "outputId": "c73b5ee2-990c-4052-f061-28f41ffc24a2"
      },
      "execution_count": null,
      "outputs": [
        {
          "output_type": "stream",
          "name": "stdout",
          "text": [
            "[5, 7, 9, 11, 13]\n"
          ]
        }
      ]
    },
    {
      "cell_type": "code",
      "source": [
        "a = range(10)\n",
        "b = list(a)\n",
        "print(b)"
      ],
      "metadata": {
        "id": "i4TwmLX1PvKm",
        "colab": {
          "base_uri": "https://localhost:8080/"
        },
        "outputId": "63ec7e01-fff8-487b-f7af-deb61fac9535"
      },
      "execution_count": null,
      "outputs": [
        {
          "output_type": "stream",
          "name": "stdout",
          "text": [
            "[0, 1, 2, 3, 4, 5, 6, 7, 8, 9]\n"
          ]
        }
      ]
    },
    {
      "cell_type": "code",
      "source": [
        "def add_numbers(a, b):\n",
        "  result = a + b\n",
        "  return result\n",
        "result2 = add_numbers(10, 2)\n",
        "print(result2)"
      ],
      "metadata": {
        "colab": {
          "base_uri": "https://localhost:8080/"
        },
        "id": "Co8Gt2iURXW6",
        "outputId": "9613e620-5553-48b0-80ee-ab95a809d730"
      },
      "execution_count": null,
      "outputs": [
        {
          "output_type": "stream",
          "name": "stdout",
          "text": [
            "12\n"
          ]
        }
      ]
    },
    {
      "cell_type": "code",
      "source": [
        "#function with *arg\n",
        "def calculate_sum(*args):\n",
        "    total = sum(args)\n",
        "    return total\n",
        "print(\"sum of 1,2,3,4 :\", calculate_sum(1,2,3,4))\n",
        "print(\"sum of 1,2,3,4,5 :\", calculate_sum(1,2,3,4,5))"
      ],
      "metadata": {
        "colab": {
          "base_uri": "https://localhost:8080/"
        },
        "id": "O8VYVzBaSrAJ",
        "outputId": "36191dff-dc47-41c5-fd5d-20da8f3ac836"
      },
      "execution_count": null,
      "outputs": [
        {
          "output_type": "stream",
          "name": "stdout",
          "text": [
            "sum of 1,2,3,4 : 10\n",
            "sum of 1,2,3,4,5 : 15\n"
          ]
        }
      ]
    },
    {
      "cell_type": "code",
      "source": [
        "add = lambda x, y : x + y\n",
        "result = add(3, 4)\n",
        "print(result)"
      ],
      "metadata": {
        "colab": {
          "base_uri": "https://localhost:8080/"
        },
        "id": "8hNm5jorUyS3",
        "outputId": "63b20a07-34bd-487e-81cc-422a7d397db2"
      },
      "execution_count": null,
      "outputs": [
        {
          "output_type": "stream",
          "name": "stdout",
          "text": [
            "7\n"
          ]
        }
      ]
    },
    {
      "cell_type": "code",
      "source": [
        "is_palindrome = lambda s: s==s[::-1]\n",
        "print(is_palindrome(\"radar\"))"
      ],
      "metadata": {
        "colab": {
          "base_uri": "https://localhost:8080/"
        },
        "id": "zJDtwbdQVn__",
        "outputId": "e2600f38-8211-4041-9bc7-966782e20b50"
      },
      "execution_count": null,
      "outputs": [
        {
          "output_type": "stream",
          "name": "stdout",
          "text": [
            "True\n"
          ]
        }
      ]
    }
  ]
}